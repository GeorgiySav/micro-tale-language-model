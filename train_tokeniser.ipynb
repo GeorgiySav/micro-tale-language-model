{
 "cells": [
  {
   "cell_type": "code",
   "execution_count": 2,
   "metadata": {},
   "outputs": [],
   "source": [
    "from datasets import load_dataset\n",
    "from transformers import AutoTokenizer\n",
    "from tqdm import tqdm\n",
    "\n",
    "dataset = load_dataset('csv', data_files='dataset/train.csv', split='train').select(range(100000))\n",
    "dataset = dataset.filter(lambda x : isinstance(x['text'], str))"
   ]
  },
  {
   "cell_type": "code",
   "execution_count": 3,
   "metadata": {},
   "outputs": [
    {
     "name": "stdout",
     "output_type": "stream",
     "text": [
      "One day, a little girl named Lily found a needle in her room. She knew it was difficult to play with it because it was sharp. Lily wanted to share the needle with her mom, so she could sew a button on her shirt.\n",
      "\n",
      "Lily went to her mom and said, \"Mom, I found this needle. Can you share it with me and sew my shirt?\" Her mom smiled and said, \"Yes, Lily, we can share the needle and fix your shirt.\"\n",
      "\n",
      "Together, they shared the needle and sewed the button on Lily's shirt. It was not difficult for them because they were sharing and helping each other. After they finished, Lily thanked her mom for sharing the needle and fixing her shirt. They both felt happy because they had shared and worked together.\n"
     ]
    }
   ],
   "source": [
    "print(dataset['text'][0])"
   ]
  },
  {
   "cell_type": "code",
   "execution_count": 4,
   "metadata": {},
   "outputs": [
    {
     "name": "stderr",
     "output_type": "stream",
     "text": [
      "100%|██████████| 25/25 [00:24<00:00,  1.04it/s]\n"
     ]
    }
   ],
   "source": [
    "from tqdm import tqdm\n",
    "\n",
    "training_corpus = [\n",
    "  f'<|start_story|>{text}<|end_story|>' for i in tqdm(range(0, len(dataset['text']), 4096)) for text in dataset['text'][i:i+4096]\n",
    "]"
   ]
  },
  {
   "cell_type": "code",
   "execution_count": 5,
   "metadata": {},
   "outputs": [
    {
     "name": "stdout",
     "output_type": "stream",
     "text": [
      "[('<|', (0, 2)), ('start', (2, 7)), ('_', (7, 8)), ('story', (8, 13)), ('|>', (13, 15)), ('Once', (15, 19)), ('Ġupon', (19, 24)), ('Ġa', (24, 26)), ('Ġtime', (26, 31)), (',', (31, 32)), ('Ġin', (32, 35)), ('Ġa', (35, 37)), ('Ġbig', (37, 41)), ('Ġforest', (41, 48)), (',', (48, 49)), ('Ġthere', (49, 55)), ('Ġlived', (55, 61)), ('Ġa', (61, 63)), ('Ġrhinoceros', (63, 74)), ('Ġnamed', (74, 80)), ('ĠRoxy', (80, 85)), ('.', (85, 86)), ('ĠRoxy', (86, 91)), ('Ġloved', (91, 97)), ('Ġto', (97, 100)), ('Ġclimb', (100, 106)), ('.', (106, 107)), ('ĠShe', (107, 111)), ('Ġclimbed', (111, 119)), ('Ġtrees', (119, 125)), (',', (125, 126)), ('Ġrocks', (126, 132)), (',', (132, 133)), ('Ġand', (133, 137)), ('Ġhills', (137, 143)), ('.', (143, 144)), ('ĠOne', (144, 148)), ('Ġday', (148, 152)), (',', (152, 153)), ('ĠRoxy', (153, 158)), ('Ġfound', (158, 164)), ('Ġan', (164, 167)), ('Ġicy', (167, 171)), ('Ġhill', (171, 176)), ('.', (176, 177)), ('ĠShe', (177, 181)), ('Ġhad', (181, 185)), ('Ġnever', (185, 191)), ('Ġseen', (191, 196)), ('Ġanything', (196, 205)), ('Ġlike', (205, 210)), ('Ġit', (210, 213)), ('Ġbefore', (213, 220)), ('.', (220, 221)), ('ĠIt', (221, 224)), ('Ġwas', (224, 228)), ('Ġshiny', (228, 234)), ('Ġand', (234, 238)), ('Ġcold', (238, 243)), (',', (243, 244)), ('Ġand', (244, 248)), ('Ġshe', (248, 252)), ('Ġwanted', (252, 259)), ('Ġto', (259, 262)), ('Ġclimb', (262, 268)), ('Ġit', (268, 271)), ('.', (271, 272)), ('ĠRoxy', (272, 277)), ('Ġtried', (277, 283)), ('Ġto', (283, 286)), ('Ġclimb', (286, 292)), ('Ġthe', (292, 296)), ('Ġicy', (296, 300)), ('Ġhill', (300, 305)), (',', (305, 306)), ('Ġbut', (306, 310)), ('Ġit', (310, 313)), ('Ġwas', (313, 317)), ('Ġvery', (317, 322)), ('Ġslippery', (322, 331)), ('.', (331, 332)), ('ĠShe', (332, 336)), ('Ġtried', (336, 342)), ('Ġagain', (342, 348)), ('Ġand', (348, 352)), ('Ġagain', (352, 358)), (',', (358, 359)), ('Ġbut', (359, 363)), ('Ġshe', (363, 367)), ('Ġkept', (367, 372)), ('Ġfalling', (372, 380)), ('Ġdown', (380, 385)), ('.', (385, 386)), ('ĠRoxy', (386, 391)), ('Ġwas', (391, 395)), ('Ġsad', (395, 399)), ('.', (399, 400)), ('ĠShe', (400, 404)), ('Ġwanted', (404, 411)), ('Ġto', (411, 414)), ('Ġclimb', (414, 420)), ('Ġthe', (420, 424)), ('Ġicy', (424, 428)), ('Ġhill', (428, 433)), ('Ġso', (433, 436)), ('Ġmuch', (436, 441)), ('.', (441, 442)), ('ĠThen', (442, 447)), (',', (447, 448)), ('Ġshe', (448, 452)), ('Ġsaw', (452, 456)), ('Ġa', (456, 458)), ('Ġlittle', (458, 465)), ('Ġbird', (465, 470)), ('Ġnamed', (470, 476)), ('ĠBilly', (476, 482)), ('.', (482, 483)), ('ĠBilly', (483, 489)), ('Ġsaw', (489, 493)), ('Ġthat', (493, 498)), ('ĠRoxy', (498, 503)), ('Ġwas', (503, 507)), ('Ġsad', (507, 511)), ('Ġand', (511, 515)), ('Ġasked', (515, 521)), (',', (521, 522)), ('Ġ\"', (522, 524)), ('Why', (524, 527)), ('Ġare', (527, 531)), ('Ġyou', (531, 535)), ('Ġsad', (535, 539)), (',', (539, 540)), ('ĠRoxy', (540, 545)), ('?\"', (545, 547)), ('ĠRoxy', (547, 552)), ('Ġtold', (552, 557)), ('ĠBilly', (557, 563)), ('Ġabout', (563, 569)), ('Ġthe', (569, 573)), ('Ġicy', (573, 577)), ('Ġhill', (577, 582)), ('Ġand', (582, 586)), ('Ġhow', (586, 590)), ('Ġshe', (590, 594)), ('Ġcouldn', (594, 601)), (\"'t\", (601, 603)), ('Ġclimb', (603, 609)), ('Ġit', (609, 612)), ('.', (612, 613)), ('ĠBilly', (613, 619)), ('Ġsaid', (619, 624)), (',', (624, 625)), ('Ġ\"', (625, 627)), ('I', (627, 628)), ('Ġhave', (628, 633)), ('Ġan', (633, 636)), ('Ġidea', (636, 641)), ('!', (641, 642)), ('ĠLet', (642, 646)), (\"'s\", (646, 648)), ('Ġfind', (648, 653)), ('Ġsome', (653, 658)), ('Ġbig', (658, 662)), ('Ġleaves', (662, 669)), ('Ġto', (669, 672)), ('Ġput', (672, 676)), ('Ġunder', (676, 682)), ('Ġyour', (682, 687)), ('Ġfeet', (687, 692)), ('.', (692, 693)), ('ĠThey', (693, 698)), ('Ġwill', (698, 703)), ('Ġhelp', (703, 708)), ('Ġyou', (708, 712)), ('Ġclimb', (712, 718)), ('Ġthe', (718, 722)), ('Ġicy', (722, 726)), ('Ġhill', (726, 731)), ('.\"', (731, 733)), ('ĠRoxy', (733, 738)), ('Ġand', (738, 742)), ('ĠBilly', (742, 748)), ('Ġlooked', (748, 755)), ('Ġfor', (755, 759)), ('Ġbig', (759, 763)), ('Ġleaves', (763, 770)), ('Ġand', (770, 774)), ('Ġfound', (774, 780)), ('Ġsome', (780, 785)), ('.', (785, 786)), ('ĠRoxy', (786, 791)), ('Ġput', (791, 795)), ('Ġthe', (795, 799)), ('Ġleaves', (799, 806)), ('Ġunder', (806, 812)), ('Ġher', (812, 816)), ('Ġfeet', (816, 821)), ('Ġand', (821, 825)), ('Ġtried', (825, 831)), ('Ġto', (831, 834)), ('Ġclimb', (834, 840)), ('Ġthe', (840, 844)), ('Ġicy', (844, 848)), ('Ġhill', (848, 853)), ('Ġagain', (853, 859)), ('.', (859, 860)), ('ĠThis', (860, 865)), ('Ġtime', (865, 870)), (',', (870, 871)), ('ĠRoxy', (871, 876)), ('Ġdidn', (876, 881)), (\"'t\", (881, 883)), ('Ġslip', (883, 888)), ('.', (888, 889)), ('ĠShe', (889, 893)), ('Ġclimbed', (893, 901)), ('Ġand', (901, 905)), ('Ġclimbed', (905, 913)), ('Ġuntil', (913, 919)), ('Ġshe', (919, 923)), ('Ġreached', (923, 931)), ('Ġthe', (931, 935)), ('Ġtop', (935, 939)), ('Ġof', (939, 942)), ('Ġthe', (942, 946)), ('Ġicy', (946, 950)), ('Ġhill', (950, 955)), ('.', (955, 956)), ('ĠRoxy', (956, 961)), ('Ġwas', (961, 965)), ('Ġso', (965, 968)), ('Ġhappy', (968, 974)), ('!', (974, 975)), ('ĠShe', (975, 979)), ('Ġand', (979, 983)), ('ĠBilly', (983, 989)), ('Ġplayed', (989, 996)), ('Ġon', (996, 999)), ('Ġthe', (999, 1003)), ('Ġicy', (1003, 1007)), ('Ġhill', (1007, 1012)), ('Ġall', (1012, 1016)), ('Ġday', (1016, 1020)), ('.', (1020, 1021)), ('ĠFrom', (1021, 1026)), ('Ġthat', (1026, 1031)), ('Ġday', (1031, 1035)), ('Ġon', (1035, 1038)), (',', (1038, 1039)), ('ĠRoxy', (1039, 1044)), ('Ġand', (1044, 1048)), ('ĠBilly', (1048, 1054)), ('Ġwere', (1054, 1059)), ('Ġthe', (1059, 1063)), ('Ġbest', (1063, 1068)), ('Ġof', (1068, 1071)), ('Ġfriends', (1071, 1079)), (',', (1079, 1080)), ('Ġand', (1080, 1084)), ('Ġthey', (1084, 1089)), ('Ġclimbed', (1089, 1097)), ('Ġand', (1097, 1101)), ('Ġplayed', (1101, 1108)), ('Ġtogether', (1108, 1117)), ('Ġall', (1117, 1121)), ('Ġthe', (1121, 1125)), ('Ġtime', (1125, 1130)), ('.', (1130, 1131)), ('ĠAnd', (1131, 1135)), ('ĠRoxy', (1135, 1140)), ('Ġlearned', (1140, 1148)), ('Ġthat', (1148, 1153)), ('Ġwith', (1153, 1158)), ('Ġa', (1158, 1160)), ('Ġlittle', (1160, 1167)), ('Ġhelp', (1167, 1172)), ('Ġfrom', (1172, 1177)), ('Ġa', (1177, 1179)), ('Ġfriend', (1179, 1186)), (',', (1186, 1187)), ('Ġshe', (1187, 1191)), ('Ġcould', (1191, 1197)), ('Ġclimb', (1197, 1203)), ('Ġanything', (1203, 1212)), ('.', (1212, 1213)), ('Ġ<|', (1213, 1216)), ('end', (1216, 1219)), ('_', (1219, 1220)), ('story', (1220, 1225)), ('|><|', (1225, 1229)), ('start', (1229, 1234)), ('_', (1234, 1235)), ('story', (1235, 1240)), ('|>', (1240, 1242)), ('Once', (1242, 1246)), ('Ġupon', (1246, 1251)), ('Ġa', (1251, 1253)), ('Ġtime', (1253, 1258)), (',', (1258, 1259)), ('Ġin', (1259, 1262)), ('Ġa', (1262, 1264)), ('Ġbig', (1264, 1268)), ('Ġforest', (1268, 1275)), (',', (1275, 1276)), ('Ġthere', (1276, 1282)), ('Ġlived', (1282, 1288)), ('Ġa', (1288, 1290)), ('Ġrhinoceros', (1290, 1301)), ('Ġnamed', (1301, 1307)), ('ĠRoxy', (1307, 1312)), ('.<|', (1312, 1315)), ('end', (1315, 1318)), ('_', (1318, 1319)), ('story', (1319, 1324)), ('|>', (1324, 1326))]\n"
     ]
    }
   ],
   "source": [
    "example = \"\"\"<|start_story|>Once upon a time, in a big forest, there lived a rhinoceros named Roxy. Roxy loved to climb. She climbed trees, rocks, and hills. One day, Roxy found an icy hill. She had never seen anything like it before. It was shiny and cold, and she wanted to climb it. Roxy tried to climb the icy hill, but it was very slippery. She tried again and again, but she kept falling down. Roxy was sad. She wanted to climb the icy hill so much. Then, she saw a little bird named Billy. Billy saw that Roxy was sad and asked, \"Why are you sad, Roxy?\" Roxy told Billy about the icy hill and how she couldn't climb it. Billy said, \"I have an idea! Let's find some big leaves to put under your feet. They will help you climb the icy hill.\" Roxy and Billy looked for big leaves and found some. Roxy put the leaves under her feet and tried to climb the icy hill again. This time, Roxy didn't slip. She climbed and climbed until she reached the top of the icy hill. Roxy was so happy! She and Billy played on the icy hill all day. From that day on, Roxy and Billy were the best of friends, and they climbed and played together all the time. And Roxy learned that with a little help from a friend, she could climb anything. <|end_story|>\"\"\"\"\"\"<|start_story|>Once upon a time, in a big forest, there lived a rhinoceros named Roxy.<|end_story|>\"\"\"\n",
    "\n",
    "from tokenizers import (\n",
    "  decoders, models, Tokenizer, pre_tokenizers, trainers, processors\n",
    ")\n",
    "tokenizer = Tokenizer(models.BPE())\n",
    "tokenizer.pre_tokenizer = pre_tokenizers.ByteLevel(add_prefix_space=False)\n",
    "print(tokenizer.pre_tokenizer.pre_tokenize_str(example))\n"
   ]
  },
  {
   "cell_type": "code",
   "execution_count": 6,
   "metadata": {},
   "outputs": [
    {
     "name": "stderr",
     "output_type": "stream",
     "text": [
      "99983it [00:08, 12210.04it/s]\n"
     ]
    }
   ],
   "source": [
    "trainer = trainers.BpeTrainer(vocab_size=2048, special_tokens=[\"<|start_story|>\", \"<|end_story|>\"])\n",
    "tokenizer.train_from_iterator(tqdm(iter(training_corpus)), trainer=trainer)"
   ]
  },
  {
   "cell_type": "code",
   "execution_count": 7,
   "metadata": {},
   "outputs": [
    {
     "name": "stdout",
     "output_type": "stream",
     "text": [
      "['<|start_story|>', 'Once', 'Ġupon', 'Ġa', 'Ġtime', ',', 'Ġin', 'Ġa', 'Ġbig', 'Ġforest', ',', 'Ġthere', 'Ġlived', 'Ġa', 'Ġr', 'h', 'in', 'o', 'cer', 'os', 'Ġnamed', 'ĠR', 'o', 'x', 'y', '.', 'ĠR', 'o', 'x', 'y', 'Ġloved', 'Ġto', 'Ġclimb', '.', 'ĠShe', 'Ġclimbed', 'Ġtrees', ',', 'Ġrocks', ',', 'Ġand', 'Ġhill', 's', '.', 'ĠOne', 'Ġday', ',', 'ĠR', 'o', 'x', 'y', 'Ġfound', 'Ġan', 'Ġ', 'icy', 'Ġhill', '.', 'ĠShe', 'Ġhad', 'Ġnever', 'Ġseen', 'Ġanything', 'Ġlike', 'Ġit', 'Ġbefore', '.', 'ĠIt', 'Ġwas', 'Ġshiny', 'Ġand', 'Ġcold', ',', 'Ġand', 'Ġshe', 'Ġwanted', 'Ġto', 'Ġclimb', 'Ġit', '.', 'ĠR', 'o', 'x', 'y', 'Ġtried', 'Ġto', 'Ġclimb', 'Ġthe', 'Ġ', 'icy', 'Ġhill', ',', 'Ġbut', 'Ġit', 'Ġwas', 'Ġvery', 'Ġsl', 'i', 'pper', 'y', '.', 'ĠShe', 'Ġtried', 'Ġagain', 'Ġand', 'Ġagain', ',', 'Ġbut', 'Ġshe', 'Ġkept', 'Ġfall', 'ing', 'Ġdown', '.', 'ĠR', 'o', 'x', 'y', 'Ġwas', 'Ġsad', '.', 'ĠShe', 'Ġwanted', 'Ġto', 'Ġclimb', 'Ġthe', 'Ġ', 'icy', 'Ġhill', 'Ġso', 'Ġmuch', '.', 'ĠThen', ',', 'Ġshe', 'Ġsaw', 'Ġa', 'Ġlittle', 'Ġbird', 'Ġnamed', 'ĠBilly', '.', 'ĠBilly', 'Ġsaw', 'Ġthat', 'ĠR', 'o', 'x', 'y', 'Ġwas', 'Ġsad', 'Ġand', 'Ġasked', ',', 'Ġ\"', 'Why', 'Ġare', 'Ġyou', 'Ġsad', ',', 'ĠR', 'o', 'x', 'y', '?\"', 'ĠR', 'o', 'x', 'y', 'Ġtold', 'ĠBilly', 'Ġabout', 'Ġthe', 'Ġ', 'icy', 'Ġhill', 'Ġand', 'Ġhow', 'Ġshe', 'Ġcouldn', \"'t\", 'Ġclimb', 'Ġit', '.', 'ĠBilly', 'Ġsaid', ',', 'Ġ\"', 'I', 'Ġhave', 'Ġan', 'Ġidea', '!', 'ĠLet', \"'s\", 'Ġfind', 'Ġsome', 'Ġbig', 'Ġleaves', 'Ġto', 'Ġput', 'Ġunder', 'Ġyour', 'Ġfe', 'et', '.', 'ĠThey', 'Ġwill', 'Ġhelp', 'Ġyou', 'Ġclimb', 'Ġthe', 'Ġ', 'icy', 'Ġhill', '.\"', 'ĠR', 'o', 'x', 'y', 'Ġand', 'ĠBilly', 'Ġlooked', 'Ġfor', 'Ġbig', 'Ġleaves', 'Ġand', 'Ġfound', 'Ġsome', '.', 'ĠR', 'o', 'x', 'y', 'Ġput', 'Ġthe', 'Ġleaves', 'Ġunder', 'Ġher', 'Ġfe', 'et', 'Ġand', 'Ġtried', 'Ġto', 'Ġclimb', 'Ġthe', 'Ġ', 'icy', 'Ġhill', 'Ġagain', '.', 'ĠThis', 'Ġtime', ',', 'ĠR', 'o', 'x', 'y', 'Ġdidn', \"'t\", 'Ġsl', 'ip', '.', 'ĠShe', 'Ġclimbed', 'Ġand', 'Ġclimbed', 'Ġuntil', 'Ġshe', 'Ġreached', 'Ġthe', 'Ġtop', 'Ġof', 'Ġthe', 'Ġ', 'icy', 'Ġhill', '.', 'ĠR', 'o', 'x', 'y', 'Ġwas', 'Ġso', 'Ġhappy', '!', 'ĠShe', 'Ġand', 'ĠBilly', 'Ġplayed', 'Ġon', 'Ġthe', 'Ġ', 'icy', 'Ġhill', 'Ġall', 'Ġday', '.', 'ĠFrom', 'Ġthat', 'Ġday', 'Ġon', ',', 'ĠR', 'o', 'x', 'y', 'Ġand', 'ĠBilly', 'Ġwere', 'Ġthe', 'Ġbest', 'Ġof', 'Ġfriends', ',', 'Ġand', 'Ġthey', 'Ġclimbed', 'Ġand', 'Ġplayed', 'Ġtogether', 'Ġall', 'Ġthe', 'Ġtime', '.', 'ĠAnd', 'ĠR', 'o', 'x', 'y', 'Ġlearned', 'Ġthat', 'Ġwith', 'Ġa', 'Ġlittle', 'Ġhelp', 'Ġfrom', 'Ġa', 'Ġfriend', ',', 'Ġshe', 'Ġcould', 'Ġclimb', 'Ġanything', '.', 'Ġ', '<|end_story|>', '<|start_story|>', 'Once', 'Ġupon', 'Ġa', 'Ġtime', ',', 'Ġin', 'Ġa', 'Ġbig', 'Ġforest', ',', 'Ġthere', 'Ġlived', 'Ġa', 'Ġr', 'h', 'in', 'o', 'cer', 'os', 'Ġnamed', 'ĠR', 'o', 'x', 'y', '.', '<|end_story|>']\n",
      "[0, 293, 309, 120, 260, 12, 183, 120, 272, 941, 12, 264, 769, 120, 197, 67, 129, 74, 1887, 1488, 361, 1023, 74, 83, 84, 14, 1023, 74, 83, 84, 366, 127, 878, 14, 176, 1436, 1221, 12, 1793, 12, 126, 1305, 78, 14, 372, 224, 12, 1023, 74, 83, 84, 458, 280, 108, 1397, 1305, 14, 176, 227, 606, 1150, 1288, 385, 165, 830, 14, 277, 144, 840, 126, 1269, 12, 126, 202, 311, 127, 878, 165, 14, 1023, 74, 83, 84, 599, 127, 878, 124, 108, 1397, 1305, 12, 276, 165, 144, 252, 586, 68, 1915, 84, 14, 176, 599, 448, 126, 448, 12, 276, 202, 788, 1446, 151, 493, 14, 1023, 74, 83, 84, 144, 438, 14, 176, 311, 127, 878, 124, 108, 1397, 1305, 215, 579, 14, 745, 12, 202, 279, 120, 263, 402, 361, 1404, 14, 1404, 279, 225, 1023, 74, 83, 84, 144, 438, 126, 379, 12, 203, 1675, 324, 222, 438, 12, 1023, 74, 83, 84, 355, 1023, 74, 83, 84, 603, 1404, 531, 124, 108, 1397, 1305, 126, 574, 202, 602, 291, 878, 165, 14, 1404, 196, 12, 203, 39, 333, 280, 858, 2, 1145, 242, 499, 386, 272, 1366, 127, 441, 762, 504, 377, 172, 14, 187, 544, 350, 222, 878, 124, 108, 1397, 1305, 289, 1023, 74, 83, 84, 126, 1404, 383, 235, 272, 1366, 126, 458, 386, 14, 1023, 74, 83, 84, 441, 124, 1366, 762, 171, 377, 172, 126, 599, 127, 878, 124, 108, 1397, 1305, 448, 14, 1437, 260, 12, 1023, 74, 83, 84, 514, 291, 586, 826, 14, 176, 1436, 126, 1436, 667, 202, 1090, 124, 1171, 212, 124, 108, 1397, 1305, 14, 1023, 74, 83, 84, 144, 215, 270, 2, 176, 126, 1404, 625, 214, 124, 108, 1397, 1305, 341, 224, 14, 750, 225, 224, 214, 12, 1023, 74, 83, 84, 126, 1404, 296, 124, 701, 212, 345, 12, 126, 229, 1436, 126, 625, 430, 341, 124, 260, 14, 716, 1023, 74, 83, 84, 679, 225, 211, 120, 263, 350, 440, 120, 282, 12, 202, 321, 878, 1288, 14, 108, 1, 0, 293, 309, 120, 260, 12, 183, 120, 272, 941, 12, 264, 769, 120, 197, 67, 129, 74, 1887, 1488, 361, 1023, 74, 83, 84, 14, 1]\n"
     ]
    }
   ],
   "source": [
    "encoding = tokenizer.encode(example)\n",
    "print(encoding.tokens)\n",
    "print(encoding.ids)"
   ]
  },
  {
   "cell_type": "code",
   "execution_count": 8,
   "metadata": {},
   "outputs": [],
   "source": [
    "tokenizer.post_processor = processors.ByteLevel(trim_offsets=False)\n",
    "tokenizer.decoder = decoders.ByteLevel()"
   ]
  },
  {
   "cell_type": "code",
   "execution_count": 9,
   "metadata": {},
   "outputs": [
    {
     "name": "stdout",
     "output_type": "stream",
     "text": [
      "Once upon a time, in a big forest, there lived a rhinoceros named Roxy. Roxy loved to climb. She climbed trees, rocks, and hills. One day, Roxy found an icy hill. She had never seen anything like it before. It was shiny and cold, and she wanted to climb it. Roxy tried to climb the icy hill, but it was very slippery. She tried again and again, but she kept falling down. Roxy was sad. She wanted to climb the icy hill so much. Then, she saw a little bird named Billy. Billy saw that Roxy was sad and asked, \"Why are you sad, Roxy?\" Roxy told Billy about the icy hill and how she couldn't climb it. Billy said, \"I have an idea! Let's find some big leaves to put under your feet. They will help you climb the icy hill.\" Roxy and Billy looked for big leaves and found some. Roxy put the leaves under her feet and tried to climb the icy hill again. This time, Roxy didn't slip. She climbed and climbed until she reached the top of the icy hill. Roxy was so happy! She and Billy played on the icy hill all day. From that day on, Roxy and Billy were the best of friends, and they climbed and played together all the time. And Roxy learned that with a little help from a friend, she could climb anything. Once upon a time, in a big forest, there lived a rhinoceros named Roxy.\n"
     ]
    }
   ],
   "source": [
    "print(tokenizer.decode(encoding.ids))"
   ]
  },
  {
   "cell_type": "code",
   "execution_count": 10,
   "metadata": {},
   "outputs": [],
   "source": [
    "from transformers import PreTrainedTokenizerFast\n",
    "wrapped_tokenizer = PreTrainedTokenizerFast(\n",
    "  tokenizer_object=tokenizer,\n",
    "  bos_token='<|start_story|>',\n",
    "  eos_token='<|end_story|>',\n",
    ")"
   ]
  },
  {
   "cell_type": "code",
   "execution_count": 18,
   "metadata": {},
   "outputs": [],
   "source": [
    "encoding = wrapped_tokenizer.encode('<|start_story|>Once upon a time, ')"
   ]
  },
  {
   "cell_type": "code",
   "execution_count": 20,
   "metadata": {},
   "outputs": [
    {
     "data": {
      "text/plain": [
       "'Once upon a time, '"
      ]
     },
     "execution_count": 20,
     "metadata": {},
     "output_type": "execute_result"
    }
   ],
   "source": [
    "wrapped_tokenizer.decode(encoding, skip_special_tokens=True)"
   ]
  },
  {
   "cell_type": "code",
   "execution_count": 21,
   "metadata": {},
   "outputs": [],
   "source": [
    "tokenizer.save('tokenizer.json', pretty=True)"
   ]
  },
  {
   "cell_type": "code",
   "execution_count": null,
   "metadata": {},
   "outputs": [],
   "source": []
  }
 ],
 "metadata": {
  "kernelspec": {
   "display_name": "base",
   "language": "python",
   "name": "python3"
  },
  "language_info": {
   "codemirror_mode": {
    "name": "ipython",
    "version": 3
   },
   "file_extension": ".py",
   "mimetype": "text/x-python",
   "name": "python",
   "nbconvert_exporter": "python",
   "pygments_lexer": "ipython3",
   "version": "3.12.7"
  }
 },
 "nbformat": 4,
 "nbformat_minor": 2
}
